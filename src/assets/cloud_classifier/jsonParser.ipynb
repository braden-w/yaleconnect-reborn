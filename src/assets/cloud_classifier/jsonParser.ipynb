{
 "cells": [
  {
   "cell_type": "code",
   "execution_count": 97,
   "metadata": {},
   "outputs": [],
   "source": [
    "import os\n",
    "import json\n",
    "import sys\n",
    "import re\n",
    "from collections import Counter"
   ]
  },
  {
   "cell_type": "code",
   "execution_count": 98,
   "metadata": {},
   "outputs": [],
   "source": [
    "with open('club_data_new.json', 'r+') as f:\n",
    "    data = json.load(f)"
   ]
  },
  {
   "cell_type": "markdown",
   "metadata": {},
   "source": [
    "Observe data"
   ]
  },
  {
   "cell_type": "code",
   "execution_count": null,
   "metadata": {},
   "outputs": [],
   "source": [
    "data"
   ]
  },
  {
   "cell_type": "code",
   "execution_count": 99,
   "metadata": {},
   "outputs": [],
   "source": [
    "# Get unique club categories\n",
    "club_categories = []\n",
    "for club in data:\n",
    "    if (('categories' in club) and (club['categories'])):\n",
    "        club_categories.append(club['categories'][0]['category'])\n",
    "        # club_categories.append(club['categories'][0]['category'])\n",
    "        # club_categories.append(club['categories'][\"category\"])\n",
    "        # for category in club['categories']:\n",
    "        #     if category not in club_categories:\n",
    "        #         club_categories.append(category)\n",
    "        \n"
   ]
  },
  {
   "cell_type": "code",
   "execution_count": null,
   "metadata": {},
   "outputs": [],
   "source": [
    "category_count = Counter(club_categories)\n",
    "\n",
    "category_count.most_common()"
   ]
  },
  {
   "cell_type": "code",
   "execution_count": 96,
   "metadata": {},
   "outputs": [
    {
     "name": "stdout",
     "output_type": "stream",
     "text": [
      "<bound method Counter.most_common of Counter({'Jobs & Education': 486, 'People & Society': 153, 'Health': 120, 'Arts & Entertainment': 118, 'Sports': 57, 'Law & Government': 55, 'Business & Industrial': 46, 'Science': 27, 'News': 18, 'Finance': 16, 'Hobbies & Leisure': 15, 'Food & Drink': 13, 'Games': 12, 'Reference': 12, 'Books & Literature': 11, 'Sensitive Subjects': 9, 'Real Estate': 7, 'Travel': 4, 'Beauty & Fitness': 4, 'Pets & Animals': 2, 'Online Communities': 1, 'Computers & Electronics': 1, 'Internet & Telecom': 1})>\n"
     ]
    }
   ],
   "source": [
    "clean_categories = []\n",
    "for category in club_categories:\n",
    "    # Remove first character from category\n",
    "    temp = category[1:]\n",
    "    # Remove everything including and after / \n",
    "    temp = re.sub(r'\\/.*', '', temp)\n",
    "    # Append to list\n",
    "    clean_categories.append(temp)\n",
    "\n",
    "print(Counter(clean_categories).most_common)\n",
    "\n"
   ]
  }
 ],
 "metadata": {
  "interpreter": {
   "hash": "b89b5cfaba6639976dc87ff2fec6d58faec662063367e2c229c520fe71072417"
  },
  "kernelspec": {
   "display_name": "Python 3.10.3 64-bit",
   "language": "python",
   "name": "python3"
  },
  "language_info": {
   "codemirror_mode": {
    "name": "ipython",
    "version": 3
   },
   "file_extension": ".py",
   "mimetype": "text/x-python",
   "name": "python",
   "nbconvert_exporter": "python",
   "pygments_lexer": "ipython3",
   "version": "3.10.3"
  },
  "orig_nbformat": 4
 },
 "nbformat": 4,
 "nbformat_minor": 2
}
